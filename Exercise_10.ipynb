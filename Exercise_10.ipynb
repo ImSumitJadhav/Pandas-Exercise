{
  "cells": [
    {
      "cell_type": "markdown",
      "metadata": {
        "id": "view-in-github",
        "colab_type": "text"
      },
      "source": [
        "<a href=\"https://colab.research.google.com/github/ImSumitJadhav/Pandas-Exercise/blob/main/Exercise_10.ipynb\" target=\"_parent\"><img src=\"https://colab.research.google.com/assets/colab-badge.svg\" alt=\"Open In Colab\"/></a>"
      ]
    },
    {
      "cell_type": "markdown",
      "metadata": {
        "id": "J536AawVLhD6"
      },
      "source": [
        "# Apple Stock"
      ]
    },
    {
      "cell_type": "markdown",
      "metadata": {
        "id": "p0zGLqzaLhED"
      },
      "source": [
        "### Introduction:\n",
        "\n",
        "We are going to use Apple's stock price.\n",
        "\n",
        "\n",
        "### Step 1. Import the necessary libraries"
      ]
    },
    {
      "cell_type": "code",
      "execution_count": 21,
      "metadata": {
        "id": "EfGsVVvxLhEG"
      },
      "outputs": [],
      "source": [
        "import pandas as pd\n",
        "import numpy as np"
      ]
    },
    {
      "cell_type": "markdown",
      "metadata": {
        "id": "gWywJu5nLhEH"
      },
      "source": [
        "### Step 2. Import the dataset from this [address](https://raw.githubusercontent.com/guipsamora/pandas_exercises/master/09_Time_Series/Apple_Stock/appl_1980_2014.csv)"
      ]
    },
    {
      "cell_type": "code",
      "execution_count": 22,
      "metadata": {
        "collapsed": true,
        "id": "Ach7xgMyLhEJ"
      },
      "outputs": [],
      "source": [
        "url=\"https://raw.githubusercontent.com/guipsamora/pandas_exercises/master/09_Time_Series/Apple_Stock/appl_1980_2014.csv\""
      ]
    },
    {
      "cell_type": "markdown",
      "metadata": {
        "id": "m8N0gLRzLhEL"
      },
      "source": [
        "### Step 3. Assign it to a variable apple"
      ]
    },
    {
      "cell_type": "code",
      "execution_count": 23,
      "metadata": {
        "id": "I5ds7dR-LhEO"
      },
      "outputs": [],
      "source": [
        "apple=pd.read_csv(url,delimiter=\",\")"
      ]
    },
    {
      "cell_type": "code",
      "source": [
        "apple.head()"
      ],
      "metadata": {
        "colab": {
          "base_uri": "https://localhost:8080/",
          "height": 206
        },
        "id": "zXj6vnoRMenO",
        "outputId": "52525edd-4cca-44b0-8a71-9088aaacfb8f"
      },
      "execution_count": 24,
      "outputs": [
        {
          "output_type": "execute_result",
          "data": {
            "text/plain": [
              "         Date   Open   High    Low  Close    Volume  Adj Close\n",
              "0  2014-07-08  96.27  96.80  93.92  95.35  65130000      95.35\n",
              "1  2014-07-07  94.14  95.99  94.10  95.97  56305400      95.97\n",
              "2  2014-07-03  93.67  94.10  93.20  94.03  22891800      94.03\n",
              "3  2014-07-02  93.87  94.06  93.09  93.48  28420900      93.48\n",
              "4  2014-07-01  93.52  94.07  93.13  93.52  38170200      93.52"
            ],
            "text/html": [
              "\n",
              "  <div id=\"df-597ae374-7b7b-45f5-9926-b7bafc614128\">\n",
              "    <div class=\"colab-df-container\">\n",
              "      <div>\n",
              "<style scoped>\n",
              "    .dataframe tbody tr th:only-of-type {\n",
              "        vertical-align: middle;\n",
              "    }\n",
              "\n",
              "    .dataframe tbody tr th {\n",
              "        vertical-align: top;\n",
              "    }\n",
              "\n",
              "    .dataframe thead th {\n",
              "        text-align: right;\n",
              "    }\n",
              "</style>\n",
              "<table border=\"1\" class=\"dataframe\">\n",
              "  <thead>\n",
              "    <tr style=\"text-align: right;\">\n",
              "      <th></th>\n",
              "      <th>Date</th>\n",
              "      <th>Open</th>\n",
              "      <th>High</th>\n",
              "      <th>Low</th>\n",
              "      <th>Close</th>\n",
              "      <th>Volume</th>\n",
              "      <th>Adj Close</th>\n",
              "    </tr>\n",
              "  </thead>\n",
              "  <tbody>\n",
              "    <tr>\n",
              "      <th>0</th>\n",
              "      <td>2014-07-08</td>\n",
              "      <td>96.27</td>\n",
              "      <td>96.80</td>\n",
              "      <td>93.92</td>\n",
              "      <td>95.35</td>\n",
              "      <td>65130000</td>\n",
              "      <td>95.35</td>\n",
              "    </tr>\n",
              "    <tr>\n",
              "      <th>1</th>\n",
              "      <td>2014-07-07</td>\n",
              "      <td>94.14</td>\n",
              "      <td>95.99</td>\n",
              "      <td>94.10</td>\n",
              "      <td>95.97</td>\n",
              "      <td>56305400</td>\n",
              "      <td>95.97</td>\n",
              "    </tr>\n",
              "    <tr>\n",
              "      <th>2</th>\n",
              "      <td>2014-07-03</td>\n",
              "      <td>93.67</td>\n",
              "      <td>94.10</td>\n",
              "      <td>93.20</td>\n",
              "      <td>94.03</td>\n",
              "      <td>22891800</td>\n",
              "      <td>94.03</td>\n",
              "    </tr>\n",
              "    <tr>\n",
              "      <th>3</th>\n",
              "      <td>2014-07-02</td>\n",
              "      <td>93.87</td>\n",
              "      <td>94.06</td>\n",
              "      <td>93.09</td>\n",
              "      <td>93.48</td>\n",
              "      <td>28420900</td>\n",
              "      <td>93.48</td>\n",
              "    </tr>\n",
              "    <tr>\n",
              "      <th>4</th>\n",
              "      <td>2014-07-01</td>\n",
              "      <td>93.52</td>\n",
              "      <td>94.07</td>\n",
              "      <td>93.13</td>\n",
              "      <td>93.52</td>\n",
              "      <td>38170200</td>\n",
              "      <td>93.52</td>\n",
              "    </tr>\n",
              "  </tbody>\n",
              "</table>\n",
              "</div>\n",
              "      <button class=\"colab-df-convert\" onclick=\"convertToInteractive('df-597ae374-7b7b-45f5-9926-b7bafc614128')\"\n",
              "              title=\"Convert this dataframe to an interactive table.\"\n",
              "              style=\"display:none;\">\n",
              "        \n",
              "  <svg xmlns=\"http://www.w3.org/2000/svg\" height=\"24px\"viewBox=\"0 0 24 24\"\n",
              "       width=\"24px\">\n",
              "    <path d=\"M0 0h24v24H0V0z\" fill=\"none\"/>\n",
              "    <path d=\"M18.56 5.44l.94 2.06.94-2.06 2.06-.94-2.06-.94-.94-2.06-.94 2.06-2.06.94zm-11 1L8.5 8.5l.94-2.06 2.06-.94-2.06-.94L8.5 2.5l-.94 2.06-2.06.94zm10 10l.94 2.06.94-2.06 2.06-.94-2.06-.94-.94-2.06-.94 2.06-2.06.94z\"/><path d=\"M17.41 7.96l-1.37-1.37c-.4-.4-.92-.59-1.43-.59-.52 0-1.04.2-1.43.59L10.3 9.45l-7.72 7.72c-.78.78-.78 2.05 0 2.83L4 21.41c.39.39.9.59 1.41.59.51 0 1.02-.2 1.41-.59l7.78-7.78 2.81-2.81c.8-.78.8-2.07 0-2.86zM5.41 20L4 18.59l7.72-7.72 1.47 1.35L5.41 20z\"/>\n",
              "  </svg>\n",
              "      </button>\n",
              "      \n",
              "  <style>\n",
              "    .colab-df-container {\n",
              "      display:flex;\n",
              "      flex-wrap:wrap;\n",
              "      gap: 12px;\n",
              "    }\n",
              "\n",
              "    .colab-df-convert {\n",
              "      background-color: #E8F0FE;\n",
              "      border: none;\n",
              "      border-radius: 50%;\n",
              "      cursor: pointer;\n",
              "      display: none;\n",
              "      fill: #1967D2;\n",
              "      height: 32px;\n",
              "      padding: 0 0 0 0;\n",
              "      width: 32px;\n",
              "    }\n",
              "\n",
              "    .colab-df-convert:hover {\n",
              "      background-color: #E2EBFA;\n",
              "      box-shadow: 0px 1px 2px rgba(60, 64, 67, 0.3), 0px 1px 3px 1px rgba(60, 64, 67, 0.15);\n",
              "      fill: #174EA6;\n",
              "    }\n",
              "\n",
              "    [theme=dark] .colab-df-convert {\n",
              "      background-color: #3B4455;\n",
              "      fill: #D2E3FC;\n",
              "    }\n",
              "\n",
              "    [theme=dark] .colab-df-convert:hover {\n",
              "      background-color: #434B5C;\n",
              "      box-shadow: 0px 1px 3px 1px rgba(0, 0, 0, 0.15);\n",
              "      filter: drop-shadow(0px 1px 2px rgba(0, 0, 0, 0.3));\n",
              "      fill: #FFFFFF;\n",
              "    }\n",
              "  </style>\n",
              "\n",
              "      <script>\n",
              "        const buttonEl =\n",
              "          document.querySelector('#df-597ae374-7b7b-45f5-9926-b7bafc614128 button.colab-df-convert');\n",
              "        buttonEl.style.display =\n",
              "          google.colab.kernel.accessAllowed ? 'block' : 'none';\n",
              "\n",
              "        async function convertToInteractive(key) {\n",
              "          const element = document.querySelector('#df-597ae374-7b7b-45f5-9926-b7bafc614128');\n",
              "          const dataTable =\n",
              "            await google.colab.kernel.invokeFunction('convertToInteractive',\n",
              "                                                     [key], {});\n",
              "          if (!dataTable) return;\n",
              "\n",
              "          const docLinkHtml = 'Like what you see? Visit the ' +\n",
              "            '<a target=\"_blank\" href=https://colab.research.google.com/notebooks/data_table.ipynb>data table notebook</a>'\n",
              "            + ' to learn more about interactive tables.';\n",
              "          element.innerHTML = '';\n",
              "          dataTable['output_type'] = 'display_data';\n",
              "          await google.colab.output.renderOutput(dataTable, element);\n",
              "          const docLink = document.createElement('div');\n",
              "          docLink.innerHTML = docLinkHtml;\n",
              "          element.appendChild(docLink);\n",
              "        }\n",
              "      </script>\n",
              "    </div>\n",
              "  </div>\n",
              "  "
            ]
          },
          "metadata": {},
          "execution_count": 24
        }
      ]
    },
    {
      "cell_type": "markdown",
      "metadata": {
        "id": "zLGlybOGLhEQ"
      },
      "source": [
        "### Step 4.  Check out the type of the columns"
      ]
    },
    {
      "cell_type": "code",
      "execution_count": 25,
      "metadata": {
        "id": "F0SW4M0KLhES",
        "colab": {
          "base_uri": "https://localhost:8080/"
        },
        "outputId": "34c8578d-0814-4c69-ba7f-12053e3611af"
      },
      "outputs": [
        {
          "output_type": "execute_result",
          "data": {
            "text/plain": [
              "Date          object\n",
              "Open         float64\n",
              "High         float64\n",
              "Low          float64\n",
              "Close        float64\n",
              "Volume         int64\n",
              "Adj Close    float64\n",
              "dtype: object"
            ]
          },
          "metadata": {},
          "execution_count": 25
        }
      ],
      "source": [
        "apple.dtypes"
      ]
    },
    {
      "cell_type": "markdown",
      "metadata": {
        "id": "CM5sKE_PLhET"
      },
      "source": [
        "### Step 5. Transform the Date column as a datetime type"
      ]
    },
    {
      "cell_type": "code",
      "execution_count": 26,
      "metadata": {
        "id": "7vHqdfhGLhEU"
      },
      "outputs": [],
      "source": [
        "apple.Date=pd.to_datetime(apple.Date)"
      ]
    },
    {
      "cell_type": "code",
      "source": [
        "apple.dtypes"
      ],
      "metadata": {
        "colab": {
          "base_uri": "https://localhost:8080/"
        },
        "id": "fkcx4DOjM3Yt",
        "outputId": "db97accf-5006-4076-c93b-5ee510c69da6"
      },
      "execution_count": 27,
      "outputs": [
        {
          "output_type": "execute_result",
          "data": {
            "text/plain": [
              "Date         datetime64[ns]\n",
              "Open                float64\n",
              "High                float64\n",
              "Low                 float64\n",
              "Close               float64\n",
              "Volume                int64\n",
              "Adj Close           float64\n",
              "dtype: object"
            ]
          },
          "metadata": {},
          "execution_count": 27
        }
      ]
    },
    {
      "cell_type": "markdown",
      "metadata": {
        "id": "nXOMNxHELhEV"
      },
      "source": [
        "### Step 6.  Set the date as the index"
      ]
    },
    {
      "cell_type": "code",
      "execution_count": 28,
      "metadata": {
        "id": "ZfMsal8PLhEW",
        "colab": {
          "base_uri": "https://localhost:8080/",
          "height": 455
        },
        "outputId": "edaa3cd6-2fa4-4979-dda7-f871345b223e"
      },
      "outputs": [
        {
          "output_type": "execute_result",
          "data": {
            "text/plain": [
              "             Open   High    Low  Close     Volume  Adj Close\n",
              "Date                                                        \n",
              "2014-07-08  96.27  96.80  93.92  95.35   65130000      95.35\n",
              "2014-07-07  94.14  95.99  94.10  95.97   56305400      95.97\n",
              "2014-07-03  93.67  94.10  93.20  94.03   22891800      94.03\n",
              "2014-07-02  93.87  94.06  93.09  93.48   28420900      93.48\n",
              "2014-07-01  93.52  94.07  93.13  93.52   38170200      93.52\n",
              "...           ...    ...    ...    ...        ...        ...\n",
              "1980-12-18  26.63  26.75  26.63  26.63   18362400       0.41\n",
              "1980-12-17  25.87  26.00  25.87  25.87   21610400       0.40\n",
              "1980-12-16  25.37  25.37  25.25  25.25   26432000       0.39\n",
              "1980-12-15  27.38  27.38  27.25  27.25   43971200       0.42\n",
              "1980-12-12  28.75  28.87  28.75  28.75  117258400       0.45\n",
              "\n",
              "[8465 rows x 6 columns]"
            ],
            "text/html": [
              "\n",
              "  <div id=\"df-a541740b-b6d4-4c3f-9b58-1bf459928c2b\">\n",
              "    <div class=\"colab-df-container\">\n",
              "      <div>\n",
              "<style scoped>\n",
              "    .dataframe tbody tr th:only-of-type {\n",
              "        vertical-align: middle;\n",
              "    }\n",
              "\n",
              "    .dataframe tbody tr th {\n",
              "        vertical-align: top;\n",
              "    }\n",
              "\n",
              "    .dataframe thead th {\n",
              "        text-align: right;\n",
              "    }\n",
              "</style>\n",
              "<table border=\"1\" class=\"dataframe\">\n",
              "  <thead>\n",
              "    <tr style=\"text-align: right;\">\n",
              "      <th></th>\n",
              "      <th>Open</th>\n",
              "      <th>High</th>\n",
              "      <th>Low</th>\n",
              "      <th>Close</th>\n",
              "      <th>Volume</th>\n",
              "      <th>Adj Close</th>\n",
              "    </tr>\n",
              "    <tr>\n",
              "      <th>Date</th>\n",
              "      <th></th>\n",
              "      <th></th>\n",
              "      <th></th>\n",
              "      <th></th>\n",
              "      <th></th>\n",
              "      <th></th>\n",
              "    </tr>\n",
              "  </thead>\n",
              "  <tbody>\n",
              "    <tr>\n",
              "      <th>2014-07-08</th>\n",
              "      <td>96.27</td>\n",
              "      <td>96.80</td>\n",
              "      <td>93.92</td>\n",
              "      <td>95.35</td>\n",
              "      <td>65130000</td>\n",
              "      <td>95.35</td>\n",
              "    </tr>\n",
              "    <tr>\n",
              "      <th>2014-07-07</th>\n",
              "      <td>94.14</td>\n",
              "      <td>95.99</td>\n",
              "      <td>94.10</td>\n",
              "      <td>95.97</td>\n",
              "      <td>56305400</td>\n",
              "      <td>95.97</td>\n",
              "    </tr>\n",
              "    <tr>\n",
              "      <th>2014-07-03</th>\n",
              "      <td>93.67</td>\n",
              "      <td>94.10</td>\n",
              "      <td>93.20</td>\n",
              "      <td>94.03</td>\n",
              "      <td>22891800</td>\n",
              "      <td>94.03</td>\n",
              "    </tr>\n",
              "    <tr>\n",
              "      <th>2014-07-02</th>\n",
              "      <td>93.87</td>\n",
              "      <td>94.06</td>\n",
              "      <td>93.09</td>\n",
              "      <td>93.48</td>\n",
              "      <td>28420900</td>\n",
              "      <td>93.48</td>\n",
              "    </tr>\n",
              "    <tr>\n",
              "      <th>2014-07-01</th>\n",
              "      <td>93.52</td>\n",
              "      <td>94.07</td>\n",
              "      <td>93.13</td>\n",
              "      <td>93.52</td>\n",
              "      <td>38170200</td>\n",
              "      <td>93.52</td>\n",
              "    </tr>\n",
              "    <tr>\n",
              "      <th>...</th>\n",
              "      <td>...</td>\n",
              "      <td>...</td>\n",
              "      <td>...</td>\n",
              "      <td>...</td>\n",
              "      <td>...</td>\n",
              "      <td>...</td>\n",
              "    </tr>\n",
              "    <tr>\n",
              "      <th>1980-12-18</th>\n",
              "      <td>26.63</td>\n",
              "      <td>26.75</td>\n",
              "      <td>26.63</td>\n",
              "      <td>26.63</td>\n",
              "      <td>18362400</td>\n",
              "      <td>0.41</td>\n",
              "    </tr>\n",
              "    <tr>\n",
              "      <th>1980-12-17</th>\n",
              "      <td>25.87</td>\n",
              "      <td>26.00</td>\n",
              "      <td>25.87</td>\n",
              "      <td>25.87</td>\n",
              "      <td>21610400</td>\n",
              "      <td>0.40</td>\n",
              "    </tr>\n",
              "    <tr>\n",
              "      <th>1980-12-16</th>\n",
              "      <td>25.37</td>\n",
              "      <td>25.37</td>\n",
              "      <td>25.25</td>\n",
              "      <td>25.25</td>\n",
              "      <td>26432000</td>\n",
              "      <td>0.39</td>\n",
              "    </tr>\n",
              "    <tr>\n",
              "      <th>1980-12-15</th>\n",
              "      <td>27.38</td>\n",
              "      <td>27.38</td>\n",
              "      <td>27.25</td>\n",
              "      <td>27.25</td>\n",
              "      <td>43971200</td>\n",
              "      <td>0.42</td>\n",
              "    </tr>\n",
              "    <tr>\n",
              "      <th>1980-12-12</th>\n",
              "      <td>28.75</td>\n",
              "      <td>28.87</td>\n",
              "      <td>28.75</td>\n",
              "      <td>28.75</td>\n",
              "      <td>117258400</td>\n",
              "      <td>0.45</td>\n",
              "    </tr>\n",
              "  </tbody>\n",
              "</table>\n",
              "<p>8465 rows × 6 columns</p>\n",
              "</div>\n",
              "      <button class=\"colab-df-convert\" onclick=\"convertToInteractive('df-a541740b-b6d4-4c3f-9b58-1bf459928c2b')\"\n",
              "              title=\"Convert this dataframe to an interactive table.\"\n",
              "              style=\"display:none;\">\n",
              "        \n",
              "  <svg xmlns=\"http://www.w3.org/2000/svg\" height=\"24px\"viewBox=\"0 0 24 24\"\n",
              "       width=\"24px\">\n",
              "    <path d=\"M0 0h24v24H0V0z\" fill=\"none\"/>\n",
              "    <path d=\"M18.56 5.44l.94 2.06.94-2.06 2.06-.94-2.06-.94-.94-2.06-.94 2.06-2.06.94zm-11 1L8.5 8.5l.94-2.06 2.06-.94-2.06-.94L8.5 2.5l-.94 2.06-2.06.94zm10 10l.94 2.06.94-2.06 2.06-.94-2.06-.94-.94-2.06-.94 2.06-2.06.94z\"/><path d=\"M17.41 7.96l-1.37-1.37c-.4-.4-.92-.59-1.43-.59-.52 0-1.04.2-1.43.59L10.3 9.45l-7.72 7.72c-.78.78-.78 2.05 0 2.83L4 21.41c.39.39.9.59 1.41.59.51 0 1.02-.2 1.41-.59l7.78-7.78 2.81-2.81c.8-.78.8-2.07 0-2.86zM5.41 20L4 18.59l7.72-7.72 1.47 1.35L5.41 20z\"/>\n",
              "  </svg>\n",
              "      </button>\n",
              "      \n",
              "  <style>\n",
              "    .colab-df-container {\n",
              "      display:flex;\n",
              "      flex-wrap:wrap;\n",
              "      gap: 12px;\n",
              "    }\n",
              "\n",
              "    .colab-df-convert {\n",
              "      background-color: #E8F0FE;\n",
              "      border: none;\n",
              "      border-radius: 50%;\n",
              "      cursor: pointer;\n",
              "      display: none;\n",
              "      fill: #1967D2;\n",
              "      height: 32px;\n",
              "      padding: 0 0 0 0;\n",
              "      width: 32px;\n",
              "    }\n",
              "\n",
              "    .colab-df-convert:hover {\n",
              "      background-color: #E2EBFA;\n",
              "      box-shadow: 0px 1px 2px rgba(60, 64, 67, 0.3), 0px 1px 3px 1px rgba(60, 64, 67, 0.15);\n",
              "      fill: #174EA6;\n",
              "    }\n",
              "\n",
              "    [theme=dark] .colab-df-convert {\n",
              "      background-color: #3B4455;\n",
              "      fill: #D2E3FC;\n",
              "    }\n",
              "\n",
              "    [theme=dark] .colab-df-convert:hover {\n",
              "      background-color: #434B5C;\n",
              "      box-shadow: 0px 1px 3px 1px rgba(0, 0, 0, 0.15);\n",
              "      filter: drop-shadow(0px 1px 2px rgba(0, 0, 0, 0.3));\n",
              "      fill: #FFFFFF;\n",
              "    }\n",
              "  </style>\n",
              "\n",
              "      <script>\n",
              "        const buttonEl =\n",
              "          document.querySelector('#df-a541740b-b6d4-4c3f-9b58-1bf459928c2b button.colab-df-convert');\n",
              "        buttonEl.style.display =\n",
              "          google.colab.kernel.accessAllowed ? 'block' : 'none';\n",
              "\n",
              "        async function convertToInteractive(key) {\n",
              "          const element = document.querySelector('#df-a541740b-b6d4-4c3f-9b58-1bf459928c2b');\n",
              "          const dataTable =\n",
              "            await google.colab.kernel.invokeFunction('convertToInteractive',\n",
              "                                                     [key], {});\n",
              "          if (!dataTable) return;\n",
              "\n",
              "          const docLinkHtml = 'Like what you see? Visit the ' +\n",
              "            '<a target=\"_blank\" href=https://colab.research.google.com/notebooks/data_table.ipynb>data table notebook</a>'\n",
              "            + ' to learn more about interactive tables.';\n",
              "          element.innerHTML = '';\n",
              "          dataTable['output_type'] = 'display_data';\n",
              "          await google.colab.output.renderOutput(dataTable, element);\n",
              "          const docLink = document.createElement('div');\n",
              "          docLink.innerHTML = docLinkHtml;\n",
              "          element.appendChild(docLink);\n",
              "        }\n",
              "      </script>\n",
              "    </div>\n",
              "  </div>\n",
              "  "
            ]
          },
          "metadata": {},
          "execution_count": 28
        }
      ],
      "source": [
        "apple=apple.set_index(\"Date\")\n",
        "apple"
      ]
    },
    {
      "cell_type": "markdown",
      "metadata": {
        "id": "8Qd5ORXwLhEX"
      },
      "source": [
        "### Step 7.  Is there any duplicate dates?"
      ]
    },
    {
      "cell_type": "code",
      "execution_count": 29,
      "metadata": {
        "id": "UFIK-8vHLhEY",
        "colab": {
          "base_uri": "https://localhost:8080/"
        },
        "outputId": "9ad779dc-4f55-4fb0-e7db-5f98edb0abc6"
      },
      "outputs": [
        {
          "output_type": "execute_result",
          "data": {
            "text/plain": [
              "False    8465\n",
              "dtype: int64"
            ]
          },
          "metadata": {},
          "execution_count": 29
        }
      ],
      "source": [
        "apple.duplicated().value_counts()"
      ]
    },
    {
      "cell_type": "markdown",
      "metadata": {
        "id": "tM9_S0gaLhEZ"
      },
      "source": [
        "### Step 8.  Ops...it seems the index is from the most recent date. Make the first entry the oldest date."
      ]
    },
    {
      "cell_type": "code",
      "execution_count": 30,
      "metadata": {
        "id": "-WcHF6-5LhEa",
        "colab": {
          "base_uri": "https://localhost:8080/",
          "height": 455
        },
        "outputId": "042a2871-19a9-49fb-d7c0-77afdf4148d1"
      },
      "outputs": [
        {
          "output_type": "execute_result",
          "data": {
            "text/plain": [
              "             Open   High    Low  Close     Volume  Adj Close\n",
              "Date                                                        \n",
              "1980-12-12  28.75  28.87  28.75  28.75  117258400       0.45\n",
              "1980-12-15  27.38  27.38  27.25  27.25   43971200       0.42\n",
              "1980-12-16  25.37  25.37  25.25  25.25   26432000       0.39\n",
              "1980-12-17  25.87  26.00  25.87  25.87   21610400       0.40\n",
              "1980-12-18  26.63  26.75  26.63  26.63   18362400       0.41\n",
              "...           ...    ...    ...    ...        ...        ...\n",
              "2014-07-01  93.52  94.07  93.13  93.52   38170200      93.52\n",
              "2014-07-02  93.87  94.06  93.09  93.48   28420900      93.48\n",
              "2014-07-03  93.67  94.10  93.20  94.03   22891800      94.03\n",
              "2014-07-07  94.14  95.99  94.10  95.97   56305400      95.97\n",
              "2014-07-08  96.27  96.80  93.92  95.35   65130000      95.35\n",
              "\n",
              "[8465 rows x 6 columns]"
            ],
            "text/html": [
              "\n",
              "  <div id=\"df-f8e6fdb4-1b09-4e90-82e1-ab2b669bbc34\">\n",
              "    <div class=\"colab-df-container\">\n",
              "      <div>\n",
              "<style scoped>\n",
              "    .dataframe tbody tr th:only-of-type {\n",
              "        vertical-align: middle;\n",
              "    }\n",
              "\n",
              "    .dataframe tbody tr th {\n",
              "        vertical-align: top;\n",
              "    }\n",
              "\n",
              "    .dataframe thead th {\n",
              "        text-align: right;\n",
              "    }\n",
              "</style>\n",
              "<table border=\"1\" class=\"dataframe\">\n",
              "  <thead>\n",
              "    <tr style=\"text-align: right;\">\n",
              "      <th></th>\n",
              "      <th>Open</th>\n",
              "      <th>High</th>\n",
              "      <th>Low</th>\n",
              "      <th>Close</th>\n",
              "      <th>Volume</th>\n",
              "      <th>Adj Close</th>\n",
              "    </tr>\n",
              "    <tr>\n",
              "      <th>Date</th>\n",
              "      <th></th>\n",
              "      <th></th>\n",
              "      <th></th>\n",
              "      <th></th>\n",
              "      <th></th>\n",
              "      <th></th>\n",
              "    </tr>\n",
              "  </thead>\n",
              "  <tbody>\n",
              "    <tr>\n",
              "      <th>1980-12-12</th>\n",
              "      <td>28.75</td>\n",
              "      <td>28.87</td>\n",
              "      <td>28.75</td>\n",
              "      <td>28.75</td>\n",
              "      <td>117258400</td>\n",
              "      <td>0.45</td>\n",
              "    </tr>\n",
              "    <tr>\n",
              "      <th>1980-12-15</th>\n",
              "      <td>27.38</td>\n",
              "      <td>27.38</td>\n",
              "      <td>27.25</td>\n",
              "      <td>27.25</td>\n",
              "      <td>43971200</td>\n",
              "      <td>0.42</td>\n",
              "    </tr>\n",
              "    <tr>\n",
              "      <th>1980-12-16</th>\n",
              "      <td>25.37</td>\n",
              "      <td>25.37</td>\n",
              "      <td>25.25</td>\n",
              "      <td>25.25</td>\n",
              "      <td>26432000</td>\n",
              "      <td>0.39</td>\n",
              "    </tr>\n",
              "    <tr>\n",
              "      <th>1980-12-17</th>\n",
              "      <td>25.87</td>\n",
              "      <td>26.00</td>\n",
              "      <td>25.87</td>\n",
              "      <td>25.87</td>\n",
              "      <td>21610400</td>\n",
              "      <td>0.40</td>\n",
              "    </tr>\n",
              "    <tr>\n",
              "      <th>1980-12-18</th>\n",
              "      <td>26.63</td>\n",
              "      <td>26.75</td>\n",
              "      <td>26.63</td>\n",
              "      <td>26.63</td>\n",
              "      <td>18362400</td>\n",
              "      <td>0.41</td>\n",
              "    </tr>\n",
              "    <tr>\n",
              "      <th>...</th>\n",
              "      <td>...</td>\n",
              "      <td>...</td>\n",
              "      <td>...</td>\n",
              "      <td>...</td>\n",
              "      <td>...</td>\n",
              "      <td>...</td>\n",
              "    </tr>\n",
              "    <tr>\n",
              "      <th>2014-07-01</th>\n",
              "      <td>93.52</td>\n",
              "      <td>94.07</td>\n",
              "      <td>93.13</td>\n",
              "      <td>93.52</td>\n",
              "      <td>38170200</td>\n",
              "      <td>93.52</td>\n",
              "    </tr>\n",
              "    <tr>\n",
              "      <th>2014-07-02</th>\n",
              "      <td>93.87</td>\n",
              "      <td>94.06</td>\n",
              "      <td>93.09</td>\n",
              "      <td>93.48</td>\n",
              "      <td>28420900</td>\n",
              "      <td>93.48</td>\n",
              "    </tr>\n",
              "    <tr>\n",
              "      <th>2014-07-03</th>\n",
              "      <td>93.67</td>\n",
              "      <td>94.10</td>\n",
              "      <td>93.20</td>\n",
              "      <td>94.03</td>\n",
              "      <td>22891800</td>\n",
              "      <td>94.03</td>\n",
              "    </tr>\n",
              "    <tr>\n",
              "      <th>2014-07-07</th>\n",
              "      <td>94.14</td>\n",
              "      <td>95.99</td>\n",
              "      <td>94.10</td>\n",
              "      <td>95.97</td>\n",
              "      <td>56305400</td>\n",
              "      <td>95.97</td>\n",
              "    </tr>\n",
              "    <tr>\n",
              "      <th>2014-07-08</th>\n",
              "      <td>96.27</td>\n",
              "      <td>96.80</td>\n",
              "      <td>93.92</td>\n",
              "      <td>95.35</td>\n",
              "      <td>65130000</td>\n",
              "      <td>95.35</td>\n",
              "    </tr>\n",
              "  </tbody>\n",
              "</table>\n",
              "<p>8465 rows × 6 columns</p>\n",
              "</div>\n",
              "      <button class=\"colab-df-convert\" onclick=\"convertToInteractive('df-f8e6fdb4-1b09-4e90-82e1-ab2b669bbc34')\"\n",
              "              title=\"Convert this dataframe to an interactive table.\"\n",
              "              style=\"display:none;\">\n",
              "        \n",
              "  <svg xmlns=\"http://www.w3.org/2000/svg\" height=\"24px\"viewBox=\"0 0 24 24\"\n",
              "       width=\"24px\">\n",
              "    <path d=\"M0 0h24v24H0V0z\" fill=\"none\"/>\n",
              "    <path d=\"M18.56 5.44l.94 2.06.94-2.06 2.06-.94-2.06-.94-.94-2.06-.94 2.06-2.06.94zm-11 1L8.5 8.5l.94-2.06 2.06-.94-2.06-.94L8.5 2.5l-.94 2.06-2.06.94zm10 10l.94 2.06.94-2.06 2.06-.94-2.06-.94-.94-2.06-.94 2.06-2.06.94z\"/><path d=\"M17.41 7.96l-1.37-1.37c-.4-.4-.92-.59-1.43-.59-.52 0-1.04.2-1.43.59L10.3 9.45l-7.72 7.72c-.78.78-.78 2.05 0 2.83L4 21.41c.39.39.9.59 1.41.59.51 0 1.02-.2 1.41-.59l7.78-7.78 2.81-2.81c.8-.78.8-2.07 0-2.86zM5.41 20L4 18.59l7.72-7.72 1.47 1.35L5.41 20z\"/>\n",
              "  </svg>\n",
              "      </button>\n",
              "      \n",
              "  <style>\n",
              "    .colab-df-container {\n",
              "      display:flex;\n",
              "      flex-wrap:wrap;\n",
              "      gap: 12px;\n",
              "    }\n",
              "\n",
              "    .colab-df-convert {\n",
              "      background-color: #E8F0FE;\n",
              "      border: none;\n",
              "      border-radius: 50%;\n",
              "      cursor: pointer;\n",
              "      display: none;\n",
              "      fill: #1967D2;\n",
              "      height: 32px;\n",
              "      padding: 0 0 0 0;\n",
              "      width: 32px;\n",
              "    }\n",
              "\n",
              "    .colab-df-convert:hover {\n",
              "      background-color: #E2EBFA;\n",
              "      box-shadow: 0px 1px 2px rgba(60, 64, 67, 0.3), 0px 1px 3px 1px rgba(60, 64, 67, 0.15);\n",
              "      fill: #174EA6;\n",
              "    }\n",
              "\n",
              "    [theme=dark] .colab-df-convert {\n",
              "      background-color: #3B4455;\n",
              "      fill: #D2E3FC;\n",
              "    }\n",
              "\n",
              "    [theme=dark] .colab-df-convert:hover {\n",
              "      background-color: #434B5C;\n",
              "      box-shadow: 0px 1px 3px 1px rgba(0, 0, 0, 0.15);\n",
              "      filter: drop-shadow(0px 1px 2px rgba(0, 0, 0, 0.3));\n",
              "      fill: #FFFFFF;\n",
              "    }\n",
              "  </style>\n",
              "\n",
              "      <script>\n",
              "        const buttonEl =\n",
              "          document.querySelector('#df-f8e6fdb4-1b09-4e90-82e1-ab2b669bbc34 button.colab-df-convert');\n",
              "        buttonEl.style.display =\n",
              "          google.colab.kernel.accessAllowed ? 'block' : 'none';\n",
              "\n",
              "        async function convertToInteractive(key) {\n",
              "          const element = document.querySelector('#df-f8e6fdb4-1b09-4e90-82e1-ab2b669bbc34');\n",
              "          const dataTable =\n",
              "            await google.colab.kernel.invokeFunction('convertToInteractive',\n",
              "                                                     [key], {});\n",
              "          if (!dataTable) return;\n",
              "\n",
              "          const docLinkHtml = 'Like what you see? Visit the ' +\n",
              "            '<a target=\"_blank\" href=https://colab.research.google.com/notebooks/data_table.ipynb>data table notebook</a>'\n",
              "            + ' to learn more about interactive tables.';\n",
              "          element.innerHTML = '';\n",
              "          dataTable['output_type'] = 'display_data';\n",
              "          await google.colab.output.renderOutput(dataTable, element);\n",
              "          const docLink = document.createElement('div');\n",
              "          docLink.innerHTML = docLinkHtml;\n",
              "          element.appendChild(docLink);\n",
              "        }\n",
              "      </script>\n",
              "    </div>\n",
              "  </div>\n",
              "  "
            ]
          },
          "metadata": {},
          "execution_count": 30
        }
      ],
      "source": [
        "apple.sort_values(\"Date\")"
      ]
    },
    {
      "cell_type": "markdown",
      "metadata": {
        "id": "pV3pbl4NLhEa"
      },
      "source": [
        "### Step 9. Get the last business day of each month"
      ]
    },
    {
      "cell_type": "code",
      "execution_count": 41,
      "metadata": {
        "id": "Df3kOaXOLhEb",
        "colab": {
          "base_uri": "https://localhost:8080/",
          "height": 238
        },
        "outputId": "e2cf90f1-0c56-45dd-dc3e-6dc9e86048f7"
      },
      "outputs": [
        {
          "output_type": "execute_result",
          "data": {
            "text/plain": [
              "                 Open       High        Low      Close        Volume  \\\n",
              "Date                                                                   \n",
              "1980-12-31  30.481538  30.567692  30.443077  30.443077  2.586252e+07   \n",
              "1981-01-30  31.754762  31.826667  31.654762  31.654762  7.249867e+06   \n",
              "1981-02-27  26.480000  26.572105  26.407895  26.407895  4.231832e+06   \n",
              "1981-03-31  24.937727  25.016818  24.836364  24.836364  7.962691e+06   \n",
              "1981-04-30  27.286667  27.368095  27.227143  27.227143  6.392000e+06   \n",
              "\n",
              "            Adj Close  \n",
              "Date                   \n",
              "1980-12-31   0.473077  \n",
              "1981-01-30   0.493810  \n",
              "1981-02-27   0.411053  \n",
              "1981-03-31   0.387727  \n",
              "1981-04-30   0.423333  "
            ],
            "text/html": [
              "\n",
              "  <div id=\"df-f99a3f88-19d4-4110-b4b1-34db0d855812\">\n",
              "    <div class=\"colab-df-container\">\n",
              "      <div>\n",
              "<style scoped>\n",
              "    .dataframe tbody tr th:only-of-type {\n",
              "        vertical-align: middle;\n",
              "    }\n",
              "\n",
              "    .dataframe tbody tr th {\n",
              "        vertical-align: top;\n",
              "    }\n",
              "\n",
              "    .dataframe thead th {\n",
              "        text-align: right;\n",
              "    }\n",
              "</style>\n",
              "<table border=\"1\" class=\"dataframe\">\n",
              "  <thead>\n",
              "    <tr style=\"text-align: right;\">\n",
              "      <th></th>\n",
              "      <th>Open</th>\n",
              "      <th>High</th>\n",
              "      <th>Low</th>\n",
              "      <th>Close</th>\n",
              "      <th>Volume</th>\n",
              "      <th>Adj Close</th>\n",
              "    </tr>\n",
              "    <tr>\n",
              "      <th>Date</th>\n",
              "      <th></th>\n",
              "      <th></th>\n",
              "      <th></th>\n",
              "      <th></th>\n",
              "      <th></th>\n",
              "      <th></th>\n",
              "    </tr>\n",
              "  </thead>\n",
              "  <tbody>\n",
              "    <tr>\n",
              "      <th>1980-12-31</th>\n",
              "      <td>30.481538</td>\n",
              "      <td>30.567692</td>\n",
              "      <td>30.443077</td>\n",
              "      <td>30.443077</td>\n",
              "      <td>2.586252e+07</td>\n",
              "      <td>0.473077</td>\n",
              "    </tr>\n",
              "    <tr>\n",
              "      <th>1981-01-30</th>\n",
              "      <td>31.754762</td>\n",
              "      <td>31.826667</td>\n",
              "      <td>31.654762</td>\n",
              "      <td>31.654762</td>\n",
              "      <td>7.249867e+06</td>\n",
              "      <td>0.493810</td>\n",
              "    </tr>\n",
              "    <tr>\n",
              "      <th>1981-02-27</th>\n",
              "      <td>26.480000</td>\n",
              "      <td>26.572105</td>\n",
              "      <td>26.407895</td>\n",
              "      <td>26.407895</td>\n",
              "      <td>4.231832e+06</td>\n",
              "      <td>0.411053</td>\n",
              "    </tr>\n",
              "    <tr>\n",
              "      <th>1981-03-31</th>\n",
              "      <td>24.937727</td>\n",
              "      <td>25.016818</td>\n",
              "      <td>24.836364</td>\n",
              "      <td>24.836364</td>\n",
              "      <td>7.962691e+06</td>\n",
              "      <td>0.387727</td>\n",
              "    </tr>\n",
              "    <tr>\n",
              "      <th>1981-04-30</th>\n",
              "      <td>27.286667</td>\n",
              "      <td>27.368095</td>\n",
              "      <td>27.227143</td>\n",
              "      <td>27.227143</td>\n",
              "      <td>6.392000e+06</td>\n",
              "      <td>0.423333</td>\n",
              "    </tr>\n",
              "  </tbody>\n",
              "</table>\n",
              "</div>\n",
              "      <button class=\"colab-df-convert\" onclick=\"convertToInteractive('df-f99a3f88-19d4-4110-b4b1-34db0d855812')\"\n",
              "              title=\"Convert this dataframe to an interactive table.\"\n",
              "              style=\"display:none;\">\n",
              "        \n",
              "  <svg xmlns=\"http://www.w3.org/2000/svg\" height=\"24px\"viewBox=\"0 0 24 24\"\n",
              "       width=\"24px\">\n",
              "    <path d=\"M0 0h24v24H0V0z\" fill=\"none\"/>\n",
              "    <path d=\"M18.56 5.44l.94 2.06.94-2.06 2.06-.94-2.06-.94-.94-2.06-.94 2.06-2.06.94zm-11 1L8.5 8.5l.94-2.06 2.06-.94-2.06-.94L8.5 2.5l-.94 2.06-2.06.94zm10 10l.94 2.06.94-2.06 2.06-.94-2.06-.94-.94-2.06-.94 2.06-2.06.94z\"/><path d=\"M17.41 7.96l-1.37-1.37c-.4-.4-.92-.59-1.43-.59-.52 0-1.04.2-1.43.59L10.3 9.45l-7.72 7.72c-.78.78-.78 2.05 0 2.83L4 21.41c.39.39.9.59 1.41.59.51 0 1.02-.2 1.41-.59l7.78-7.78 2.81-2.81c.8-.78.8-2.07 0-2.86zM5.41 20L4 18.59l7.72-7.72 1.47 1.35L5.41 20z\"/>\n",
              "  </svg>\n",
              "      </button>\n",
              "      \n",
              "  <style>\n",
              "    .colab-df-container {\n",
              "      display:flex;\n",
              "      flex-wrap:wrap;\n",
              "      gap: 12px;\n",
              "    }\n",
              "\n",
              "    .colab-df-convert {\n",
              "      background-color: #E8F0FE;\n",
              "      border: none;\n",
              "      border-radius: 50%;\n",
              "      cursor: pointer;\n",
              "      display: none;\n",
              "      fill: #1967D2;\n",
              "      height: 32px;\n",
              "      padding: 0 0 0 0;\n",
              "      width: 32px;\n",
              "    }\n",
              "\n",
              "    .colab-df-convert:hover {\n",
              "      background-color: #E2EBFA;\n",
              "      box-shadow: 0px 1px 2px rgba(60, 64, 67, 0.3), 0px 1px 3px 1px rgba(60, 64, 67, 0.15);\n",
              "      fill: #174EA6;\n",
              "    }\n",
              "\n",
              "    [theme=dark] .colab-df-convert {\n",
              "      background-color: #3B4455;\n",
              "      fill: #D2E3FC;\n",
              "    }\n",
              "\n",
              "    [theme=dark] .colab-df-convert:hover {\n",
              "      background-color: #434B5C;\n",
              "      box-shadow: 0px 1px 3px 1px rgba(0, 0, 0, 0.15);\n",
              "      filter: drop-shadow(0px 1px 2px rgba(0, 0, 0, 0.3));\n",
              "      fill: #FFFFFF;\n",
              "    }\n",
              "  </style>\n",
              "\n",
              "      <script>\n",
              "        const buttonEl =\n",
              "          document.querySelector('#df-f99a3f88-19d4-4110-b4b1-34db0d855812 button.colab-df-convert');\n",
              "        buttonEl.style.display =\n",
              "          google.colab.kernel.accessAllowed ? 'block' : 'none';\n",
              "\n",
              "        async function convertToInteractive(key) {\n",
              "          const element = document.querySelector('#df-f99a3f88-19d4-4110-b4b1-34db0d855812');\n",
              "          const dataTable =\n",
              "            await google.colab.kernel.invokeFunction('convertToInteractive',\n",
              "                                                     [key], {});\n",
              "          if (!dataTable) return;\n",
              "\n",
              "          const docLinkHtml = 'Like what you see? Visit the ' +\n",
              "            '<a target=\"_blank\" href=https://colab.research.google.com/notebooks/data_table.ipynb>data table notebook</a>'\n",
              "            + ' to learn more about interactive tables.';\n",
              "          element.innerHTML = '';\n",
              "          dataTable['output_type'] = 'display_data';\n",
              "          await google.colab.output.renderOutput(dataTable, element);\n",
              "          const docLink = document.createElement('div');\n",
              "          docLink.innerHTML = docLinkHtml;\n",
              "          element.appendChild(docLink);\n",
              "        }\n",
              "      </script>\n",
              "    </div>\n",
              "  </div>\n",
              "  "
            ]
          },
          "metadata": {},
          "execution_count": 41
        }
      ],
      "source": [
        "apple_month = apple.resample(\"BM\").mean()\n",
        "\n",
        "apple_month.head()"
      ]
    },
    {
      "cell_type": "markdown",
      "metadata": {
        "id": "xOG4S8_oLhEb"
      },
      "source": [
        "### Step 10.  What is the difference in days between the first day and the oldest"
      ]
    },
    {
      "cell_type": "code",
      "execution_count": 44,
      "metadata": {
        "id": "SM-K85_8LhEc",
        "colab": {
          "base_uri": "https://localhost:8080/"
        },
        "outputId": "b464242f-e0f8-4f0e-d5f3-367e852d0ef2"
      },
      "outputs": [
        {
          "output_type": "execute_result",
          "data": {
            "text/plain": [
              "12261"
            ]
          },
          "metadata": {},
          "execution_count": 44
        }
      ],
      "source": [
        "((apple.index.max())-(apple.index.min())).days"
      ]
    },
    {
      "cell_type": "markdown",
      "metadata": {
        "id": "rZQWLpDILhEc"
      },
      "source": [
        "### Step 11.  How many months in the data we have?"
      ]
    },
    {
      "cell_type": "code",
      "execution_count": 47,
      "metadata": {
        "id": "BfzvKOxILhEd",
        "colab": {
          "base_uri": "https://localhost:8080/"
        },
        "outputId": "21a95643-6499-4670-ee40-2a266d5398e5"
      },
      "outputs": [
        {
          "output_type": "execute_result",
          "data": {
            "text/plain": [
              "404"
            ]
          },
          "metadata": {},
          "execution_count": 47
        }
      ],
      "source": [
        "len(apple.resample(\"BM\"))"
      ]
    },
    {
      "cell_type": "markdown",
      "metadata": {
        "id": "zUlvTo8PLhEd"
      },
      "source": [
        "### Step 12. Plot the 'Adj Close' value. Set the size of the figure to 13.5 x 9 inches"
      ]
    },
    {
      "cell_type": "code",
      "source": [
        "import matplotlib.pyplot as plt"
      ],
      "metadata": {
        "id": "wJY4REboRcuj"
      },
      "execution_count": 50,
      "outputs": []
    },
    {
      "cell_type": "code",
      "execution_count": 53,
      "metadata": {
        "id": "r4MdGAmBLhEe",
        "colab": {
          "base_uri": "https://localhost:8080/",
          "height": 531
        },
        "outputId": "2cc2cd89-0996-4095-89c2-e71dd387f046"
      },
      "outputs": [
        {
          "output_type": "execute_result",
          "data": {
            "text/plain": [
              "<matplotlib.axes._subplots.AxesSubplot at 0x7fbfa924ac10>"
            ]
          },
          "metadata": {},
          "execution_count": 53
        },
        {
          "output_type": "display_data",
          "data": {
            "text/plain": [
              "<Figure size 972x648 with 1 Axes>"
            ],
            "image/png": "[encoded data removed]"
          },
          "metadata": {
            "needs_background": "light"
          }
        }
      ],
      "source": [
        "plt.figure(figsize=(13.5,9))\n",
        "apple[\"Adj Close\"].plot(kind=\"line\")"
      ]
    }
  ],
  "metadata": {
    "anaconda-cloud": {},
    "kernelspec": {
      "display_name": "Python [default]",
      "language": "python",
      "name": "python2"
    },
    "language_info": {
      "codemirror_mode": {
        "name": "ipython",
        "version": 2
      },
      "file_extension": ".py",
      "mimetype": "text/x-python",
      "name": "python",
      "nbconvert_exporter": "python",
      "pygments_lexer": "ipython2",
      "version": "2.7.12"
    },
    "colab": {
      "provenance": [],
      "include_colab_link": true
    }
  },
  "nbformat": 4,
  "nbformat_minor": 0
}